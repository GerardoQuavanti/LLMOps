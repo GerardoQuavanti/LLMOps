{
 "cells": [
  {
   "cell_type": "code",
   "execution_count": 4,
   "id": "d566bb99-6808-4976-8476-ed05b7941b80",
   "metadata": {},
   "outputs": [
    {
     "data": {
      "text/plain": [
       "100"
      ]
     },
     "execution_count": 4,
     "metadata": {},
     "output_type": "execute_result"
    }
   ],
   "source": [
    "import pandas as pd\n",
    "df = pd.read_csv('../../top_100_clubs.csv')\n",
    "df = df[df['location'].notna()] # remove any NaN values as it blows up serialization\n",
    "data = df.sample(100).to_dict('records') # Get only 700 records. More records will make it slower to index\n",
    "len(data)"
   ]
  },
  {
   "cell_type": "code",
   "execution_count": 5,
   "id": "af8bce2c-e123-498a-a5f2-cefffd17fc74",
   "metadata": {},
   "outputs": [
    {
     "name": "stderr",
     "output_type": "stream",
     "text": [
      "c:\\Users\\gerar\\OneDrive\\Education\\Duke University LLMOps\\Introduction to Retrieval Augmented Generation\\LLMOps-RAG\\.venv\\Lib\\site-packages\\sentence_transformers\\cross_encoder\\CrossEncoder.py:11: TqdmWarning: IProgress not found. Please update jupyter and ipywidgets. See https://ipywidgets.readthedocs.io/en/stable/user_install.html\n",
      "  from tqdm.autonotebook import tqdm, trange\n"
     ]
    }
   ],
   "source": [
    "from qdrant_client import models, QdrantClient\n",
    "from sentence_transformers import SentenceTransformer"
   ]
  },
  {
   "cell_type": "code",
   "execution_count": 6,
   "id": "2b0e4be5-7518-4458-bf47-6913ef9a72a9",
   "metadata": {},
   "outputs": [],
   "source": [
    "encoder = SentenceTransformer('all-MiniLM-L6-v2') # Model to create embeddings"
   ]
  },
  {
   "cell_type": "code",
   "execution_count": 7,
   "id": "5efa031d-b18a-4db1-9c34-9989a15c822b",
   "metadata": {},
   "outputs": [],
   "source": [
    "# create the vector database client\n",
    "qdrant = QdrantClient(\":memory:\") # Create in-memory Qdrant instance"
   ]
  },
  {
   "cell_type": "code",
   "execution_count": 8,
   "id": "6c03be93-a076-425e-8df1-5a8b6367e558",
   "metadata": {},
   "outputs": [
    {
     "name": "stderr",
     "output_type": "stream",
     "text": [
      "C:\\Users\\gerar\\AppData\\Local\\Temp\\ipykernel_28460\\697990934.py:2: DeprecationWarning: `recreate_collection` method is deprecated and will be removed in the future. Use `collection_exists` to check collection existence and `create_collection` instead.\n",
      "  qdrant.recreate_collection(\n"
     ]
    },
    {
     "data": {
      "text/plain": [
       "True"
      ]
     },
     "execution_count": 8,
     "metadata": {},
     "output_type": "execute_result"
    }
   ],
   "source": [
    "# Create collection to store clubs\n",
    "qdrant.recreate_collection(\n",
    "    collection_name=\"top_clubs\",\n",
    "    vectors_config=models.VectorParams(\n",
    "        size=encoder.get_sentence_embedding_dimension(), # Vector size is defined by used model\n",
    "        distance=models.Distance.COSINE\n",
    "    )\n",
    ")"
   ]
  },
  {
   "cell_type": "code",
   "execution_count": 9,
   "id": "655d08af-758f-4338-b112-cf94045c7b0d",
   "metadata": {},
   "outputs": [],
   "source": [
    "# vectorize!\n",
    "qdrant.upload_points(\n",
    "    collection_name=\"top_clubs\",\n",
    "    points=[\n",
    "        models.PointStruct(\n",
    "            id=idx,\n",
    "            vector=encoder.encode(doc[\"text\"]).tolist(),\n",
    "            payload=doc,\n",
    "        ) for idx, doc in enumerate(data) # data is the variable holding all the wines\n",
    "    ]\n",
    ")"
   ]
  },
  {
   "cell_type": "code",
   "execution_count": 10,
   "id": "f23bc999",
   "metadata": {},
   "outputs": [],
   "source": [
    "user_prompt = \"Can you give me the name of the 3 highest ranking clubs in Spain?\""
   ]
  },
  {
   "cell_type": "code",
   "execution_count": 11,
   "id": "68c9bff5-db38-4a98-b542-cd173af11b53",
   "metadata": {},
   "outputs": [
    {
     "name": "stdout",
     "output_type": "stream",
     "text": [
      "{'Rank': 100, 'Club_Name': 'La Feria', 'location': 'Santiago, Chile', 'capacity': '400', 'Website': 'clublaferia.com', 'text': \"If you've heard of one club in Chile it will undoubtedly be La Feria, a now-25-year-old venue that was once a large house in a bohemian neighbourhood. These days it is a hotbed of electronic music activity that boasts a Funktion-One sound system and sleek visual edge designed by Mexican designer Exme. In the last year, the club — which is run entirely on recycled energy — has opened a new space next to the main room that focuses on new local talent, while international guests have included the Martinez Brothers, Paco Osuna and Carl Cox. Thrust Publishing Ltd, Unit 3, 30-40 Underwood Street, London, N1 7JQ, United Kingdom.\"} score: 0.4202738555397836\n",
      "{'Rank': 10, 'Club_Name': 'Laroc Club', 'location': 'Valinhos, Brazil', 'capacity': '5,000', 'Website': nan, 'text': 'laroc.club With its top-level DJ bookings, genuinely impressive open-air mainstage area, festival-standard production values, and smart integration into the local natural environment, Laroc Club near Valinhos in São Paulo state continues to put the super into superclub. Rising steadily through the DJ Mag Top 100 Clubs chart since its first appearance in 2017, the venue has styled itself as a festival experience within a club, and it makes the most of the gorgeous weather, glorious sunsets and connection with nature that its outdoor setting provides. On the decks, top class EDM DJs regularly entertain a mix of dedicated locals and clued-up visitors, with appearances in 2024 from Tiësto, James Hype, Steve Aoki, John Summit, Meduza, R3HAB, Gorgon City, Mochakk, Alok, Steve Angello, CamelPhat, Yotto, Kasablanca, Vintage Culture, and Peggy Gou. Looking forward to the rest of 2024, the club remains committed to its strategy of booking big names that don’t visit Brazil very often. “Additionally, we intend to continue with some labels that were successful at the club,” the Laroc team tells us, “such as Spektrum, a night focused on psytrance, and Ame Laroc Festival in 2025, and to return with Laroc Guarujá, a club of the brand located on the coast of São Paulo.” Thrust Publishing Ltd, Unit 3, 30-40 Underwood Street, London, N1 7JQ, United Kingdom.'} score: 0.3399441548524632\n",
      "{'Rank': 12, 'Club_Name': 'Noa Beach Club', 'location': 'Zrće Beach, Croatia', 'capacity': '4,000', 'Website': 'noa-beach.com', 'text': \"Noa Beach Club has been a steady fixture in the upper regions of our poll for several years now and it's not hard to see why. It is one of the shining lights of its native Croatian scene and a real anchor point for many of the summer's largest and most internationally renowned festivals. Events have included collaborations with legendary Ibiza club Amnesia and festivals like Oasis, hard dance smasher Forbidden Island, Hideout, and many more. Every year, the venue looks to raise the bar in terms of the DJs it offers for standalone parties, and in the last 12 months big names like MORTEN, Cuebrick and Vize have all left their mark, while well-known regional resident DJs Lorenzo, Mike & Me and NOIDE are amongst some of those with ever-growing profiles. As well as the music, the club’s location on the famous Zrće Beach on the Island of Pag makes Noa irresistible; it is built off the beach and over the Adriatic sea, with several different dancefloors and bars, a pool, chillout cabanas, palm trees, and huge sound systems all in and amongst organic and bohemian design features. It's a perfect open-air and sun-kissed beach club, frankly, and high rollers can even pull up to it by boat. Thrust Publishing Ltd, Unit 3, 30-40 Underwood Street, London, N1 7JQ, United Kingdom.\"} score: 0.32117199060050616\n"
     ]
    }
   ],
   "source": [
    "# Search time for awesome wines!\n",
    "\n",
    "hits = qdrant.search(\n",
    "    collection_name=\"top_clubs\",\n",
    "    query_vector=encoder.encode(user_prompt).tolist(),\n",
    "    limit=3\n",
    ")\n",
    "for hit in hits:\n",
    "  print(hit.payload, \"score:\", hit.score)"
   ]
  },
  {
   "cell_type": "code",
   "execution_count": 12,
   "id": "33243e5d-9e0d-4ec4-98e9-3fc56b8bdb10",
   "metadata": {},
   "outputs": [],
   "source": [
    "# define a variable to hold the search results\n",
    "search_results = [hit.payload for hit in hits]"
   ]
  },
  {
   "cell_type": "code",
   "execution_count": 13,
   "id": "e6c2b91e",
   "metadata": {},
   "outputs": [],
   "source": [
    "# Now time to connect to the local large language model\n",
    "from openai import OpenAI\n",
    "client = OpenAI(\n",
    "    base_url=\"http://127.0.0.1:8081/v1\", # \"http://<Your api-server IP>:port\"\n",
    "    api_key = \"sk-no-key-required\"\n",
    ")\n",
    "completion = client.chat.completions.create(\n",
    "    model=\"LLaMA_CPP\",\n",
    "    messages=[\n",
    "        {\"role\": \"system\", \"content\": \"You are chatbot, a club specialist. Your top priority is to help guide users into selecting amazing clubs and guide them with their requests.\"},\n",
    "        {\"role\": \"user\", \"content\": \"Can you give me the name of the 3 highest ranking clubs in Spain?\"},\n",
    "        {\"role\": \"assistant\", \"content\": str(search_results)}\n",
    "    ]\n",
    ")\n",
    "print(completion.choices[0].message)"
   ]
  }
 ],
 "metadata": {
  "kernelspec": {
   "display_name": "Python 3 (ipykernel)",
   "language": "python",
   "name": "python3"
  },
  "language_info": {
   "codemirror_mode": {
    "name": "ipython",
    "version": 3
   },
   "file_extension": ".py",
   "mimetype": "text/x-python",
   "name": "python",
   "nbconvert_exporter": "python",
   "pygments_lexer": "ipython3",
   "version": "3.12.4"
  }
 },
 "nbformat": 4,
 "nbformat_minor": 5
}
