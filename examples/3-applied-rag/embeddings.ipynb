{
 "cells": [
  {
   "cell_type": "code",
   "execution_count": 11,
   "id": "d566bb99-6808-4976-8476-ed05b7941b80",
   "metadata": {},
   "outputs": [
    {
     "data": {
      "text/plain": [
       "100"
      ]
     },
     "execution_count": 11,
     "metadata": {},
     "output_type": "execute_result"
    }
   ],
   "source": [
    "import pandas as pd\n",
    "df = pd.read_csv('../../top_100_clubs.csv')\n",
    "df = df[df['location'].notna()] # remove any NaN values as it blows up serialization\n",
    "data = df.sample(100).to_dict('records') # Get only 100 records. More records will make it slower to index\n",
    "len(data)"
   ]
  },
  {
   "cell_type": "code",
   "execution_count": 12,
   "id": "af8bce2c-e123-498a-a5f2-cefffd17fc74",
   "metadata": {},
   "outputs": [],
   "source": [
    "from qdrant_client import models, QdrantClient\n",
    "from sentence_transformers import SentenceTransformer"
   ]
  },
  {
   "cell_type": "code",
   "execution_count": 13,
   "id": "2b0e4be5-7518-4458-bf47-6913ef9a72a9",
   "metadata": {},
   "outputs": [],
   "source": [
    "encoder = SentenceTransformer('all-MiniLM-L6-v2') # Model to create embeddings"
   ]
  },
  {
   "cell_type": "code",
   "execution_count": 14,
   "id": "5efa031d-b18a-4db1-9c34-9989a15c822b",
   "metadata": {},
   "outputs": [],
   "source": [
    "# create the vector database client\n",
    "qdrant = QdrantClient(\":memory:\") # Create in-memory Qdrant instance"
   ]
  },
  {
   "cell_type": "code",
   "execution_count": 15,
   "id": "6c03be93-a076-425e-8df1-5a8b6367e558",
   "metadata": {},
   "outputs": [
    {
     "name": "stderr",
     "output_type": "stream",
     "text": [
      "C:\\Users\\gerar\\AppData\\Local\\Temp\\ipykernel_33640\\697990934.py:2: DeprecationWarning: `recreate_collection` method is deprecated and will be removed in the future. Use `collection_exists` to check collection existence and `create_collection` instead.\n",
      "  qdrant.recreate_collection(\n"
     ]
    },
    {
     "data": {
      "text/plain": [
       "True"
      ]
     },
     "execution_count": 15,
     "metadata": {},
     "output_type": "execute_result"
    }
   ],
   "source": [
    "# Create collection to store clubs\n",
    "qdrant.recreate_collection(\n",
    "    collection_name=\"top_clubs\",\n",
    "    vectors_config=models.VectorParams(\n",
    "        size=encoder.get_sentence_embedding_dimension(), # Vector size is defined by used model\n",
    "        distance=models.Distance.COSINE\n",
    "    )\n",
    ")"
   ]
  },
  {
   "cell_type": "code",
   "execution_count": 16,
   "id": "655d08af-758f-4338-b112-cf94045c7b0d",
   "metadata": {},
   "outputs": [],
   "source": [
    "# vectorize!\n",
    "qdrant.upload_points(\n",
    "    collection_name=\"top_clubs\",\n",
    "    points=[\n",
    "        models.PointStruct(\n",
    "            id=idx,\n",
    "            vector=encoder.encode(doc[\"text\"]).tolist(),\n",
    "            payload=doc,\n",
    "        ) for idx, doc in enumerate(data) # data is the variable holding all the clubs\n",
    "    ]\n",
    ")"
   ]
  },
  {
   "cell_type": "code",
   "execution_count": 17,
   "id": "f23bc999",
   "metadata": {},
   "outputs": [],
   "source": [
    "user_prompt = \"Can you give me the name of a club in Brazil with a capacity of more than 8000?\""
   ]
  },
  {
   "cell_type": "code",
   "execution_count": 18,
   "id": "68c9bff5-db38-4a98-b542-cd173af11b53",
   "metadata": {},
   "outputs": [
    {
     "name": "stdout",
     "output_type": "stream",
     "text": [
      "{'Rank': 100, 'Club_Name': 'La Feria', 'location': 'Santiago, Chile', 'capacity': '400', 'Website': 'clublaferia.com', 'text': \"If you've heard of one club in Chile it will undoubtedly be La Feria, a now-25-year-old venue that was once a large house in a bohemian neighbourhood. These days it is a hotbed of electronic music activity that boasts a Funktion-One sound system and sleek visual edge designed by Mexican designer Exme. In the last year, the club — which is run entirely on recycled energy — has opened a new space next to the main room that focuses on new local talent, while international guests have included the Martinez Brothers, Paco Osuna and Carl Cox. Thrust Publishing Ltd, Unit 3, 30-40 Underwood Street, London, N1 7JQ, United Kingdom.\"} score: 0.5349186990542022\n",
      "{'Rank': 10, 'Club_Name': 'Laroc Club', 'location': 'Valinhos, Brazil', 'capacity': '5,000', 'Website': nan, 'text': 'laroc.club With its top-level DJ bookings, genuinely impressive open-air mainstage area, festival-standard production values, and smart integration into the local natural environment, Laroc Club near Valinhos in São Paulo state continues to put the super into superclub. Rising steadily through the DJ Mag Top 100 Clubs chart since its first appearance in 2017, the venue has styled itself as a festival experience within a club, and it makes the most of the gorgeous weather, glorious sunsets and connection with nature that its outdoor setting provides. On the decks, top class EDM DJs regularly entertain a mix of dedicated locals and clued-up visitors, with appearances in 2024 from Tiësto, James Hype, Steve Aoki, John Summit, Meduza, R3HAB, Gorgon City, Mochakk, Alok, Steve Angello, CamelPhat, Yotto, Kasablanca, Vintage Culture, and Peggy Gou. Looking forward to the rest of 2024, the club remains committed to its strategy of booking big names that don’t visit Brazil very often. “Additionally, we intend to continue with some labels that were successful at the club,” the Laroc team tells us, “such as Spektrum, a night focused on psytrance, and Ame Laroc Festival in 2025, and to return with Laroc Guarujá, a club of the brand located on the coast of São Paulo.” Thrust Publishing Ltd, Unit 3, 30-40 Underwood Street, London, N1 7JQ, United Kingdom.'} score: 0.5145088889989904\n",
      "{'Rank': 20, 'Club_Name': 'PACHA IBIZA', 'location': 'Ibiza, Spain', 'capacity': '3903', 'Website': 'pacha.com', 'text': 'From its humble beginnings back in the early ’70s as a traditional Ibizan farmhouse in the wetlands of Talamanca, Pacha Ibiza has grown into one of the world’s most iconic clubs. The venue now boasts a 2,600-square-metre main room, a second room and restaurant, and numerous outdoor spaces. Aside from the small matter of celebrating the club’s 50th birthday in 2023, the Pacha Ibiza team also found time to renovate the VIP area, and upgrade the already impressive dynamic visual installation in the main room, doubling the LED screen’s previous resolution — and they’re installing a further huge video wall too. It’s party time seven nights a week at Pacha through summer, including CamelPhat on Tuesdays, Marco Carola’s Music On on Fridays and Solomun’s +1 Sunday session, and over the last 12 months the club has booked a range of DJs from Moodyman, Peggy Gou, Honey Dijon and Luciano to Fatboy Slim, Steve Angelo and Pete Tong. Together with Pacha Ibiza’s other residents — Bedouin, Robin Schulz, Purple Disco Machine, Diplo, Hugel, Lost Frequencies and Bora Uzer — the club will be kicking off the 2024 season with a series of one-off events with, to name a few, WhoMadeWho, Ben Böhmer, Roger Sanchez, Loco Dice, Keinemusik, Kölsch and Ida Engberg, before heading into another no doubt killer summer season. Thrust Publishing Ltd, Unit 3, 30-40 Underwood Street, London, N1 7JQ, United Kingdom.'} score: 0.44775105570499546\n"
     ]
    }
   ],
   "source": [
    "# Search time for awesome wines!\n",
    "\n",
    "hits = qdrant.search(\n",
    "    collection_name=\"top_clubs\",\n",
    "    query_vector=encoder.encode(user_prompt).tolist(),\n",
    "    limit=3\n",
    ")\n",
    "for hit in hits:\n",
    "  print(hit.payload, \"score:\", hit.score)"
   ]
  },
  {
   "cell_type": "code",
   "execution_count": 19,
   "id": "33243e5d-9e0d-4ec4-98e9-3fc56b8bdb10",
   "metadata": {},
   "outputs": [],
   "source": [
    "# define a variable to hold the search results\n",
    "search_results = [hit.payload for hit in hits]"
   ]
  },
  {
   "cell_type": "code",
   "execution_count": 20,
   "id": "e6c2b91e",
   "metadata": {},
   "outputs": [
    {
     "name": "stdout",
     "output_type": "stream",
     "text": [
      "ChatCompletionMessage(content='[{\\'Rank\\': 100, \\'Club_Name\\': \\'La Feria\\', \\'location\\': \\'Santiago, Chile\\', \\'capacity\\': \\'400\\', \\'Website\\': \\'clublaferia.com\\', \\'text\\': \"If you\\'ve heard of one club in Chile it will undoubtedly be La Feria, a now-25-year-old venue that was once a large house in a bohemian neighbourhood. These days it is a hotbed of electronic music activity that boasts a Funktion-One sound system and sleek visual edge designed by Mexican designer Exme. In the last year, the club — which is run entirely on recycled energy — has opened a new space next to the main room that focuses on new local talent, while international guests have included the Martinez Brothers, Paco Osuna and Carl Cox. Thrust Publishing Ltd, Unit 3, 30-40 Underwood Street, London, N1 7JQ, United Kingdom.\"}, {\\'Rank\\': 10, \\'Club_Name\\': \\'Laroc Club\\', \\'location\\': \\'Valinhos, Brazil\\', \\'capacity\\': \\'5,000\\', \\'Website\\': nan, \\'text\\': \\'laroc.club With its top-level DJ bookings, genuinely impressive open-air mainstage area, festival-standard production values, and smart integration into the local natural environment, Laroc Club near Valinhos in São Paulo state continues to put the super into superclub. Rising steadily through the DJ Mag Top 100 Clubs chart since its first appearance in 2017, the venue has styled itself as a festival experience within a club, and it makes the most of the gorgeous weather, glorious sunsets and connection with nature that its outdoor setting provides. On the decks, top class EDM DJs regularly entertain a mix of dedicated locals and clued-up visitors, with appearances in 2024 from Tiësto, James Hype, Steve Aoki, John Summit, Meduza, R3HAB, Gorgon City, Mochakk, Alok, Steve Angello, CamelPhat, Yotto, Kasablanca, Vintage Culture, and Peggy Gou. Looking forward to the rest of 2024, the club remains committed to its strategy of booking big names that don’t visit Brazil very often. “Additionally, we intend to continue with some labels that were successful at the club,” the Laroc team tells us, “such as Spektrum, a night focused on psytrance, and Ame Laroc Festival in 2025, and to return with Laroc Guarujá, a club of the brand located on the coast of São Paulo.” Thrust Publishing Ltd, Unit 3, 30-40 Underwood Street, London, N1 7JQ, United Kingdom.\\'}, {\\'Rank\\': 20, \\'Club_Name\\': \\'PACHA IBIZA\\', \\'location\\': \\'Ibiza, Spain\\', \\'capacity\\': \\'3903\\', \\'Website\\': \\'pacha.com\\', \\'text\\': \\'From its humble beginnings back in the early ’70s as a traditional Ibizan farmhouse in the wetlands of Talamanca, Pacha Ibiza has grown into one of the world’s most iconic clubs. The venue now boasts a 2,600-square-metre main room, a second room and restaurant, and numerous outdoor spaces. Aside from the small matter of celebrating the club’s 50th birthday in 2023, the Pacha Ibiza team has lined up a diverse and impressive array of DJs for the rest of the year, including the likes of Moodyman, Peggy Gou, Honey Dijon and Loco Dice, as well as a series of one-off events with the likes of WhoMadeWho, Ben Böhmer, Rødhåd, DVS1, Objekt, Stephan Bodzin and many more. Thrust Publishing Ltd, Unit 3, 30-40 Underwood Street, London, N1 7JQ, United Kingdom.\\'}]</s>', role='assistant', function_call=None, tool_calls=None)\n"
     ]
    }
   ],
   "source": [
    "# Now time to connect to the local large language model\n",
    "from openai import OpenAI\n",
    "client = OpenAI(\n",
    "    base_url=\"http://127.0.0.1:8080/v1\", # \"http://<Your api-server IP>:port\"\n",
    "    api_key = \"sk-no-key-required\"\n",
    ")\n",
    "completion = client.chat.completions.create(\n",
    "    model=\"LLaMA_CPP\",\n",
    "    messages=[\n",
    "        {\"role\": \"system\", \"content\": \"You are chatbot, a club specialist. Your top priority is to help guide users into selecting amazing clubs and guide them with their requests.\"},\n",
    "        {\"role\": \"user\", \"content\": \"Can you give me the name of a club in Brazil with a capacity of more than 8000?\"},\n",
    "        {\"role\": \"assistant\", \"content\": str(search_results)}\n",
    "    ]\n",
    ")\n",
    "print(completion.choices[0].message)"
   ]
  }
 ],
 "metadata": {
  "kernelspec": {
   "display_name": "Python 3 (ipykernel)",
   "language": "python",
   "name": "python3"
  },
  "language_info": {
   "codemirror_mode": {
    "name": "ipython",
    "version": 3
   },
   "file_extension": ".py",
   "mimetype": "text/x-python",
   "name": "python",
   "nbconvert_exporter": "python",
   "pygments_lexer": "ipython3",
   "version": "3.12.4"
  }
 },
 "nbformat": 4,
 "nbformat_minor": 5
}
